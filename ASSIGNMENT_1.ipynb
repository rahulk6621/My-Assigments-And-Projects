{
 "cells": [
  {
   "cell_type": "markdown",
   "id": "f956b617",
   "metadata": {},
   "source": [
    "# ASSIGMENT_1"
   ]
  },
  {
   "cell_type": "markdown",
   "id": "af73c651",
   "metadata": {},
   "source": [
    "# solution of Q. n 1\n"
   ]
  },
  {
   "cell_type": "raw",
   "id": "96e989e3",
   "metadata": {},
   "source": [
    "string - 'hello' \n",
    "integer - -87.8 , 6 \n",
    "exprsiion - + , -, *, /"
   ]
  },
  {
   "cell_type": "markdown",
   "id": "0c723af8",
   "metadata": {},
   "source": [
    "\n",
    "# solution of Q.n 2\n"
   ]
  },
  {
   "cell_type": "raw",
   "id": "fe4b2752",
   "metadata": {},
   "source": [
    "A string is a value representing text and it can be wriiten in quotes.\n",
    "A variable is a name that can refer to any value or a thing in which we can store data\n",
    "A variable can hold a string, but a string can't hold a variable."
   ]
  },
  {
   "cell_type": "markdown",
   "id": "b42c6d35",
   "metadata": {},
   "source": [
    "# solutio of Q.n 3"
   ]
  },
  {
   "cell_type": "raw",
   "id": "193912a7",
   "metadata": {},
   "source": [
    "\n",
    "  numberic data type ---\n",
    "  * Integer data type --- refers to number like 1,2,3\n",
    "  * Float data type ---- refers to decimal no 123.56\n",
    "  *Complex data type---- refers to eqn like 4 +5j\n",
    "  BOOLEN data type ---- refers to True or False\n",
    "  Squence data type ---- * String * List  * Tuple \"\"\" \n",
    "  \n",
    "  \n",
    "\n",
    " "
   ]
  },
  {
   "cell_type": "markdown",
   "id": "e7db2435",
   "metadata": {},
   "source": [
    "# Solution of Q.n 4"
   ]
  },
  {
   "cell_type": "raw",
   "id": "b06bfe28",
   "metadata": {},
   "source": [
    "\n",
    "In python, an expression is any  combination of symbols (like a variable, constants, and operators) representing a value.\n",
    "it is used to evaluate the values or represent the results.  ex 2+3= 5   "
   ]
  },
  {
   "cell_type": "markdown",
   "id": "15bb09aa",
   "metadata": {},
   "source": [
    "# Solution of Q.n 5"
   ]
  },
  {
   "cell_type": "raw",
   "id": "b71f7fa6",
   "metadata": {},
   "source": [
    "Expression is made up of values, containers and mathematical operators (operands) and \n",
    "the statement is just like a command that a python interpreter executes.\"\"\""
   ]
  },
  {
   "cell_type": "markdown",
   "id": "3ecbfef2",
   "metadata": {},
   "source": [
    "# Solution of Q.n 6"
   ]
  },
  {
   "cell_type": "code",
   "execution_count": 29,
   "id": "c5101c91",
   "metadata": {},
   "outputs": [
    {
     "data": {
      "text/plain": [
       "23"
      ]
     },
     "execution_count": 29,
     "metadata": {},
     "output_type": "execute_result"
    }
   ],
   "source": [
    "\n",
    "bacon = 22\n",
    "bacon +1"
   ]
  },
  {
   "cell_type": "markdown",
   "id": "824ab316",
   "metadata": {},
   "source": [
    "# solution of Q.n 7"
   ]
  },
  {
   "cell_type": "code",
   "execution_count": 30,
   "id": "217b8d15",
   "metadata": {},
   "outputs": [
    {
     "data": {
      "text/plain": [
       "'spamspamspam'"
      ]
     },
     "execution_count": 30,
     "metadata": {},
     "output_type": "execute_result"
    }
   ],
   "source": [
    "\n",
    "\"spam\" + \"spamspam\""
   ]
  },
  {
   "cell_type": "code",
   "execution_count": 31,
   "id": "fca3fb5b",
   "metadata": {},
   "outputs": [
    {
     "data": {
      "text/plain": [
       "'spamspamspam'"
      ]
     },
     "execution_count": 31,
     "metadata": {},
     "output_type": "execute_result"
    }
   ],
   "source": [
    "'spam' *3"
   ]
  },
  {
   "cell_type": "markdown",
   "id": "203f748e",
   "metadata": {},
   "source": [
    "# solution of Q.N 8\n"
   ]
  },
  {
   "cell_type": "code",
   "execution_count": 17,
   "id": "de941119",
   "metadata": {},
   "outputs": [],
   "source": [
    "eggs = 10"
   ]
  },
  {
   "cell_type": "code",
   "execution_count": 32,
   "id": "77854911",
   "metadata": {},
   "outputs": [
    {
     "ename": "SyntaxError",
     "evalue": "cannot assign to literal (<ipython-input-32-8c85fdd8eb5c>, line 1)",
     "output_type": "error",
     "traceback": [
      "\u001b[1;36m  File \u001b[1;32m\"<ipython-input-32-8c85fdd8eb5c>\"\u001b[1;36m, line \u001b[1;32m1\u001b[0m\n\u001b[1;33m    100 = j\u001b[0m\n\u001b[1;37m    ^\u001b[0m\n\u001b[1;31mSyntaxError\u001b[0m\u001b[1;31m:\u001b[0m cannot assign to literal\n"
     ]
    }
   ],
   "source": [
    "100 = j"
   ]
  },
  {
   "cell_type": "raw",
   "id": "9e9fc864",
   "metadata": {},
   "source": [
    "'''Eggs is a valid varible because its starts with string like alaphabet but\n",
    "100 is invalid because we cant give varible an integer name  '''"
   ]
  },
  {
   "cell_type": "markdown",
   "id": "72751da0",
   "metadata": {},
   "source": [
    "# solution of Q.n 9\n"
   ]
  },
  {
   "cell_type": "raw",
   "id": "df9f8777",
   "metadata": {},
   "source": [
    "str() \n",
    "int()\n",
    "float()"
   ]
  },
  {
   "cell_type": "markdown",
   "id": "e39d9a0c",
   "metadata": {},
   "source": [
    "# solution of Q.n. 10"
   ]
  },
  {
   "cell_type": "code",
   "execution_count": 24,
   "id": "2426fbf0",
   "metadata": {},
   "outputs": [
    {
     "ename": "TypeError",
     "evalue": "can only concatenate str (not \"int\") to str",
     "output_type": "error",
     "traceback": [
      "\u001b[1;31m---------------------------------------------------------------------------\u001b[0m",
      "\u001b[1;31mTypeError\u001b[0m                                 Traceback (most recent call last)",
      "\u001b[1;32m<ipython-input-24-d24367e449d8>\u001b[0m in \u001b[0;36m<module>\u001b[1;34m\u001b[0m\n\u001b[1;32m----> 1\u001b[1;33m \u001b[1;34m'i have eaten'\u001b[0m \u001b[1;33m+\u001b[0m \u001b[1;36m99\u001b[0m \u001b[1;33m+\u001b[0m \u001b[1;34m\"burritos\"\u001b[0m\u001b[1;33m\u001b[0m\u001b[1;33m\u001b[0m\u001b[0m\n\u001b[0m",
      "\u001b[1;31mTypeError\u001b[0m: can only concatenate str (not \"int\") to str"
     ]
    }
   ],
   "source": [
    "'i have eaten' + 99 + \"burritos\""
   ]
  },
  {
   "cell_type": "markdown",
   "id": "f6387b7f",
   "metadata": {},
   "source": [
    " This expresion cause error because 99 is an integer it cannnot be concatenated with strings, If we have to concatenate it we need to do typecasting."
   ]
  },
  {
   "cell_type": "code",
   "execution_count": 26,
   "id": "0300d950",
   "metadata": {},
   "outputs": [
    {
     "data": {
      "text/plain": [
       "'i have eatenA99burritos'"
      ]
     },
     "execution_count": 26,
     "metadata": {},
     "output_type": "execute_result"
    }
   ],
   "source": [
    "'i have eaten' + \"A99\" + \"burritos\""
   ]
  },
  {
   "cell_type": "code",
   "execution_count": null,
   "id": "4c5bec2e",
   "metadata": {},
   "outputs": [],
   "source": []
  }
 ],
 "metadata": {
  "kernelspec": {
   "display_name": "Python 3",
   "language": "python",
   "name": "python3"
  },
  "language_info": {
   "codemirror_mode": {
    "name": "ipython",
    "version": 3
   },
   "file_extension": ".py",
   "mimetype": "text/x-python",
   "name": "python",
   "nbconvert_exporter": "python",
   "pygments_lexer": "ipython3",
   "version": "3.8.8"
  }
 },
 "nbformat": 4,
 "nbformat_minor": 5
}
