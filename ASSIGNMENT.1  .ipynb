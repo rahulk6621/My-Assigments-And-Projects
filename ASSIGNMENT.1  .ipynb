{
 "cells": [
  {
   "cell_type": "markdown",
   "id": "f956b617",
   "metadata": {},
   "source": [
    "# ASSIGNMENT_1"
   ]
  },
  {
   "cell_type": "markdown",
   "id": "c9a2727e",
   "metadata": {},
   "source": [
    "# Solution of Q. n 1\n"
   ]
  },
  {
   "cell_type": "code",
   "execution_count": 6,
   "id": "71836380",
   "metadata": {},
   "outputs": [
    {
     "data": {
      "text/plain": [
       "\"string - 'hello' \\ninteger - -87.8 , 6 \\nexprsiion - + , -, *, / \\n\""
      ]
     },
     "execution_count": 6,
     "metadata": {},
     "output_type": "execute_result"
    }
   ],
   "source": [
    "\"\"\"string - 'hello' \n",
    "integer - -87.8 , 6 \n",
    "exprsiion - + , -, *, / \n",
    "\"\"\""
   ]
  },
  {
   "cell_type": "markdown",
   "id": "135b0fe0",
   "metadata": {},
   "source": [
    "\n",
    "# Solution of Q.n 2\n"
   ]
  },
  {
   "cell_type": "code",
   "execution_count": 7,
   "id": "61178bb6",
   "metadata": {},
   "outputs": [
    {
     "data": {
      "text/plain": [
       "\"A string is a value representing text and it can be wriiten in quotes.\\nA variable is a name that can refer to any value or a thing in which we can store data\\nA variable can hold a string, but a string can't hold a variable.\""
      ]
     },
     "execution_count": 7,
     "metadata": {},
     "output_type": "execute_result"
    }
   ],
   "source": [
    "\"\"\"A string is a value representing text and it can be wriiten in quotes.\n",
    "A variable is a name that can refer to any value or a thing in which we can store data\n",
    "A variable can hold a string, but a string can't hold a variable.\"\"\""
   ]
  },
  {
   "cell_type": "markdown",
   "id": "9f45c4de",
   "metadata": {},
   "source": [
    "# Solution of Q.n 3"
   ]
  },
  {
   "cell_type": "code",
   "execution_count": 8,
   "id": "d8abaa00",
   "metadata": {},
   "outputs": [
    {
     "data": {
      "text/plain": [
       "'\\n  numberic data type ---\\n  * Integer data type --- refers to number like 1,2,3\\n  * Float data type ---- refers to decimal no 123.56\\n  *Complex data type---- refers to eqn like 4 +5j\\n  BOOLEN data type ---- refers to True or False\\n  Squence data type ---- * String * List  * Tuple '"
      ]
     },
     "execution_count": 8,
     "metadata": {},
     "output_type": "execute_result"
    }
   ],
   "source": [
    "\"\"\"\n",
    "  numberic data type ---\n",
    "  * Integer data type --- refers to number like 1,2,3\n",
    "  * Float data type ---- refers to decimal no 123.56\n",
    "  *Complex data type---- refers to eqn like 4 +5j\n",
    "  BOOLEN data type ---- refers to True or False\n",
    "  Squence data type ---- * String * List  * Tuple \"\"\" \n",
    "  \n",
    "  \n",
    "\n",
    " "
   ]
  },
  {
   "cell_type": "markdown",
   "id": "0faacd7d",
   "metadata": {},
   "source": [
    "# Solution of Q.n 4"
   ]
  },
  {
   "cell_type": "code",
   "execution_count": 9,
   "id": "36893483",
   "metadata": {},
   "outputs": [
    {
     "data": {
      "text/plain": [
       "'\\nIn python, an expression is any  combination of symbols (like a variable, constants, and operators) representing a value.\\nit is used to evaluate the values or represent the results.  ex 2+3= 5  '"
      ]
     },
     "execution_count": 9,
     "metadata": {},
     "output_type": "execute_result"
    }
   ],
   "source": [
    "\"\"\"\n",
    "In python, an expression is any  combination of symbols (like a variable, constants, and operators) representing a value.\n",
    "it is used to evaluate the values or represent the results.  ex 2+3= 5  \"\"\" "
   ]
  },
  {
   "cell_type": "markdown",
   "id": "c77c738c",
   "metadata": {},
   "source": [
    "# Solution of Q.n 5"
   ]
  },
  {
   "cell_type": "code",
   "execution_count": 10,
   "id": "0d785a5d",
   "metadata": {},
   "outputs": [
    {
     "data": {
      "text/plain": [
       "'Expression is made up of values, containers and mathematical operators (operands) and \\nthe statement is just like a command that a python interpreter executes.'"
      ]
     },
     "execution_count": 10,
     "metadata": {},
     "output_type": "execute_result"
    }
   ],
   "source": [
    "\"\"\"Expression is made up of values, containers and mathematical operators (operands) and \n",
    "the statement is just like a command that a python interpreter executes.\"\"\""
   ]
  },
  {
   "cell_type": "markdown",
   "id": "683be6fb",
   "metadata": {},
   "source": [
    "# Solution of Q.n 6"
   ]
  },
  {
   "cell_type": "code",
   "execution_count": 11,
   "id": "c5101c91",
   "metadata": {},
   "outputs": [
    {
     "data": {
      "text/plain": [
       "23"
      ]
     },
     "execution_count": 11,
     "metadata": {},
     "output_type": "execute_result"
    }
   ],
   "source": [
    "\n",
    "bacon = 22\n",
    "bacon +1"
   ]
  },
  {
   "cell_type": "markdown",
   "id": "4e0bfff6",
   "metadata": {},
   "source": [
    "# Solution of Q.n 7"
   ]
  },
  {
   "cell_type": "code",
   "execution_count": 12,
   "id": "217b8d15",
   "metadata": {},
   "outputs": [
    {
     "data": {
      "text/plain": [
       "'spamspamspam'"
      ]
     },
     "execution_count": 12,
     "metadata": {},
     "output_type": "execute_result"
    }
   ],
   "source": [
    "\n",
    "\"spam\" + \"spamspam\""
   ]
  },
  {
   "cell_type": "code",
   "execution_count": 13,
   "id": "68faedf9",
   "metadata": {},
   "outputs": [
    {
     "data": {
      "text/plain": [
       "'spamspamspam'"
      ]
     },
     "execution_count": 13,
     "metadata": {},
     "output_type": "execute_result"
    }
   ],
   "source": [
    "'spam' *3"
   ]
  },
  {
   "cell_type": "markdown",
   "id": "2b1a0028",
   "metadata": {},
   "source": [
    "# Solution of Q.n 8\n"
   ]
  },
  {
   "cell_type": "code",
   "execution_count": 17,
   "id": "8c9ded5a",
   "metadata": {},
   "outputs": [],
   "source": [
    "eggs = 10"
   ]
  },
  {
   "cell_type": "code",
   "execution_count": 32,
   "id": "11699481",
   "metadata": {},
   "outputs": [
    {
     "ename": "SyntaxError",
     "evalue": "cannot assign to literal (<ipython-input-32-8c85fdd8eb5c>, line 1)",
     "output_type": "error",
     "traceback": [
      "\u001b[1;36m  File \u001b[1;32m\"<ipython-input-32-8c85fdd8eb5c>\"\u001b[1;36m, line \u001b[1;32m1\u001b[0m\n\u001b[1;33m    100 = j\u001b[0m\n\u001b[1;37m    ^\u001b[0m\n\u001b[1;31mSyntaxError\u001b[0m\u001b[1;31m:\u001b[0m cannot assign to literal\n"
     ]
    }
   ],
   "source": [
    "100 = j"
   ]
  },
  {
   "cell_type": "code",
   "execution_count": 14,
   "id": "6157e23e",
   "metadata": {},
   "outputs": [
    {
     "data": {
      "text/plain": [
       "'Eggs is a valid varible because its starts with string like alaphabet but\\n100 is invalid because we cant give varible an integer name  '"
      ]
     },
     "execution_count": 14,
     "metadata": {},
     "output_type": "execute_result"
    }
   ],
   "source": [
    "'''Eggs is a valid varible because its starts with string like alaphabet but\n",
    "100 is invalid because we cant give varible an integer name  '''"
   ]
  },
  {
   "cell_type": "markdown",
   "id": "6114e29f",
   "metadata": {},
   "source": [
    "# solution of Q.n 9\n"
   ]
  },
  {
   "cell_type": "code",
   "execution_count": 15,
   "id": "0b1fd537",
   "metadata": {},
   "outputs": [
    {
     "data": {
      "text/plain": [
       "'str() \\nint()\\nfloat()'"
      ]
     },
     "execution_count": 15,
     "metadata": {},
     "output_type": "execute_result"
    }
   ],
   "source": [
    "\"\"\"str() \n",
    "int()\n",
    "float()\"\"\""
   ]
  },
  {
   "cell_type": "markdown",
   "id": "473be879",
   "metadata": {},
   "source": [
    "# solution of Q.n. 10"
   ]
  },
  {
   "cell_type": "code",
   "execution_count": 16,
   "id": "50e4788f",
   "metadata": {},
   "outputs": [
    {
     "ename": "TypeError",
     "evalue": "can only concatenate str (not \"int\") to str",
     "output_type": "error",
     "traceback": [
      "\u001b[1;31m---------------------------------------------------------------------------\u001b[0m",
      "\u001b[1;31mTypeError\u001b[0m                                 Traceback (most recent call last)",
      "\u001b[1;32m<ipython-input-16-d24367e449d8>\u001b[0m in \u001b[0;36m<module>\u001b[1;34m\u001b[0m\n\u001b[1;32m----> 1\u001b[1;33m \u001b[1;34m'i have eaten'\u001b[0m \u001b[1;33m+\u001b[0m \u001b[1;36m99\u001b[0m \u001b[1;33m+\u001b[0m \u001b[1;34m\"burritos\"\u001b[0m\u001b[1;33m\u001b[0m\u001b[1;33m\u001b[0m\u001b[0m\n\u001b[0m",
      "\u001b[1;31mTypeError\u001b[0m: can only concatenate str (not \"int\") to str"
     ]
    }
   ],
   "source": [
    "'i have eaten' + 99 + \"burritos\""
   ]
  },
  {
   "cell_type": "markdown",
   "id": "7a7c1430",
   "metadata": {},
   "source": [
    " This expresion cause error because 99 is an integer it cannnot be concatenated with strings, If we have to concatenate it we need to do typecasting."
   ]
  },
  {
   "cell_type": "code",
   "execution_count": 17,
   "id": "619e9a54",
   "metadata": {},
   "outputs": [
    {
     "data": {
      "text/plain": [
       "'i have eatenA99burritos'"
      ]
     },
     "execution_count": 17,
     "metadata": {},
     "output_type": "execute_result"
    }
   ],
   "source": [
    "'i have eaten' + \"A99\" + \"burritos\""
   ]
  },
  {
   "cell_type": "code",
   "execution_count": null,
   "id": "5c62d43b",
   "metadata": {},
   "outputs": [],
   "source": []
  }
 ],
 "metadata": {
  "kernelspec": {
   "display_name": "Python 3",
   "language": "python",
   "name": "python3"
  },
  "language_info": {
   "codemirror_mode": {
    "name": "ipython",
    "version": 3
   },
   "file_extension": ".py",
   "mimetype": "text/x-python",
   "name": "python",
   "nbconvert_exporter": "python",
   "pygments_lexer": "ipython3",
   "version": "3.8.8"
  }
 },
 "nbformat": 4,
 "nbformat_minor": 5
}
